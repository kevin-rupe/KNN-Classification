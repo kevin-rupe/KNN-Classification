{
 "cells": [
  {
   "cell_type": "code",
   "execution_count": 1,
   "id": "006b11d2",
   "metadata": {},
   "outputs": [
    {
     "name": "stdout",
     "output_type": "stream",
     "text": [
      "The Python   version from my environment is  3.11.4\n",
      "The Platform version from my environment is  Windows-10\n",
      "The Platform release from my environment is  10.0.22631\n"
     ]
    }
   ],
   "source": [
    "#Display Python version\n",
    "from platform import python_version      # view python version information\n",
    "import platform                          # view operating platform information\n",
    "\n",
    "print(\"The Python   version from my environment is \", python_version())\n",
    "print(\"The Platform version from my environment is \", platform.platform(terse=True))\n",
    "print(\"The Platform release from my environment is \", platform.version())"
   ]
  },
  {
   "cell_type": "code",
   "execution_count": 2,
   "id": "7f461fad",
   "metadata": {
    "scrolled": true
   },
   "outputs": [],
   "source": [
    "#import important libraries\n",
    "import pandas as pd           # for dataframe and data manipulation\n",
    "from pandas import DataFrame\n",
    "import numpy as np            # provides array objects and calculations\n",
    "\n",
    "#import scikit-learn libraries\n",
    "from sklearn.metrics import roc_curve\n",
    "from sklearn.metrics import roc_auc_score\n",
    "from sklearn.metrics import classification_report\n",
    "from sklearn.metrics import confusion_matrix\n",
    "from sklearn.model_selection import train_test_split\n",
    "from sklearn.model_selection import GridSearchCV\n",
    "from sklearn.model_selection import KFold\n",
    "from sklearn.neighbors import KNeighborsClassifier\n",
    "from sklearn.preprocessing import StandardScaler\n",
    "\n",
    "#import visualization libraries\n",
    "import matplotlib.pyplot as plt\n",
    "%matplotlib inline\n",
    "\n",
    "#ignore warnings\n",
    "import warnings\n",
    "warnings.filterwarnings('ignore')"
   ]
  },
  {
   "cell_type": "code",
   "execution_count": 3,
   "id": "a99cc883",
   "metadata": {},
   "outputs": [],
   "source": [
    "#import CSV file\n",
    "import pandas as pd\n",
    "med_df = pd.read_csv(\"C:/Users/e0145653/Documents/WGU/D209 - Data Mining/medical_clean.csv\")"
   ]
  },
  {
   "cell_type": "code",
   "execution_count": 4,
   "id": "573bc52a",
   "metadata": {},
   "outputs": [
    {
     "data": {
      "text/html": [
       "<div>\n",
       "<style scoped>\n",
       "    .dataframe tbody tr th:only-of-type {\n",
       "        vertical-align: middle;\n",
       "    }\n",
       "\n",
       "    .dataframe tbody tr th {\n",
       "        vertical-align: top;\n",
       "    }\n",
       "\n",
       "    .dataframe thead th {\n",
       "        text-align: right;\n",
       "    }\n",
       "</style>\n",
       "<table border=\"1\" class=\"dataframe\">\n",
       "  <thead>\n",
       "    <tr style=\"text-align: right;\">\n",
       "      <th></th>\n",
       "      <th>CaseOrder</th>\n",
       "      <th>Customer_id</th>\n",
       "      <th>Interaction</th>\n",
       "      <th>UID</th>\n",
       "      <th>City</th>\n",
       "      <th>State</th>\n",
       "      <th>County</th>\n",
       "      <th>Zip</th>\n",
       "      <th>Lat</th>\n",
       "      <th>Lng</th>\n",
       "      <th>...</th>\n",
       "      <th>TotalCharge</th>\n",
       "      <th>Additional_charges</th>\n",
       "      <th>Item1</th>\n",
       "      <th>Item2</th>\n",
       "      <th>Item3</th>\n",
       "      <th>Item4</th>\n",
       "      <th>Item5</th>\n",
       "      <th>Item6</th>\n",
       "      <th>Item7</th>\n",
       "      <th>Item8</th>\n",
       "    </tr>\n",
       "  </thead>\n",
       "  <tbody>\n",
       "    <tr>\n",
       "      <th>0</th>\n",
       "      <td>1</td>\n",
       "      <td>C412403</td>\n",
       "      <td>8cd49b13-f45a-4b47-a2bd-173ffa932c2f</td>\n",
       "      <td>3a83ddb66e2ae73798bdf1d705dc0932</td>\n",
       "      <td>Eva</td>\n",
       "      <td>AL</td>\n",
       "      <td>Morgan</td>\n",
       "      <td>35621</td>\n",
       "      <td>34.34960</td>\n",
       "      <td>-86.72508</td>\n",
       "      <td>...</td>\n",
       "      <td>3726.702860</td>\n",
       "      <td>17939.403420</td>\n",
       "      <td>3</td>\n",
       "      <td>3</td>\n",
       "      <td>2</td>\n",
       "      <td>2</td>\n",
       "      <td>4</td>\n",
       "      <td>3</td>\n",
       "      <td>3</td>\n",
       "      <td>4</td>\n",
       "    </tr>\n",
       "    <tr>\n",
       "      <th>1</th>\n",
       "      <td>2</td>\n",
       "      <td>Z919181</td>\n",
       "      <td>d2450b70-0337-4406-bdbb-bc1037f1734c</td>\n",
       "      <td>176354c5eef714957d486009feabf195</td>\n",
       "      <td>Marianna</td>\n",
       "      <td>FL</td>\n",
       "      <td>Jackson</td>\n",
       "      <td>32446</td>\n",
       "      <td>30.84513</td>\n",
       "      <td>-85.22907</td>\n",
       "      <td>...</td>\n",
       "      <td>4193.190458</td>\n",
       "      <td>17612.998120</td>\n",
       "      <td>3</td>\n",
       "      <td>4</td>\n",
       "      <td>3</td>\n",
       "      <td>4</td>\n",
       "      <td>4</td>\n",
       "      <td>4</td>\n",
       "      <td>3</td>\n",
       "      <td>3</td>\n",
       "    </tr>\n",
       "    <tr>\n",
       "      <th>2</th>\n",
       "      <td>3</td>\n",
       "      <td>F995323</td>\n",
       "      <td>a2057123-abf5-4a2c-abad-8ffe33512562</td>\n",
       "      <td>e19a0fa00aeda885b8a436757e889bc9</td>\n",
       "      <td>Sioux Falls</td>\n",
       "      <td>SD</td>\n",
       "      <td>Minnehaha</td>\n",
       "      <td>57110</td>\n",
       "      <td>43.54321</td>\n",
       "      <td>-96.63772</td>\n",
       "      <td>...</td>\n",
       "      <td>2434.234222</td>\n",
       "      <td>17505.192460</td>\n",
       "      <td>2</td>\n",
       "      <td>4</td>\n",
       "      <td>4</td>\n",
       "      <td>4</td>\n",
       "      <td>3</td>\n",
       "      <td>4</td>\n",
       "      <td>3</td>\n",
       "      <td>3</td>\n",
       "    </tr>\n",
       "    <tr>\n",
       "      <th>3</th>\n",
       "      <td>4</td>\n",
       "      <td>A879973</td>\n",
       "      <td>1dec528d-eb34-4079-adce-0d7a40e82205</td>\n",
       "      <td>cd17d7b6d152cb6f23957346d11c3f07</td>\n",
       "      <td>New Richland</td>\n",
       "      <td>MN</td>\n",
       "      <td>Waseca</td>\n",
       "      <td>56072</td>\n",
       "      <td>43.89744</td>\n",
       "      <td>-93.51479</td>\n",
       "      <td>...</td>\n",
       "      <td>2127.830423</td>\n",
       "      <td>12993.437350</td>\n",
       "      <td>3</td>\n",
       "      <td>5</td>\n",
       "      <td>5</td>\n",
       "      <td>3</td>\n",
       "      <td>4</td>\n",
       "      <td>5</td>\n",
       "      <td>5</td>\n",
       "      <td>5</td>\n",
       "    </tr>\n",
       "    <tr>\n",
       "      <th>4</th>\n",
       "      <td>5</td>\n",
       "      <td>C544523</td>\n",
       "      <td>5885f56b-d6da-43a3-8760-83583af94266</td>\n",
       "      <td>d2f0425877b10ed6bb381f3e2579424a</td>\n",
       "      <td>West Point</td>\n",
       "      <td>VA</td>\n",
       "      <td>King William</td>\n",
       "      <td>23181</td>\n",
       "      <td>37.59894</td>\n",
       "      <td>-76.88958</td>\n",
       "      <td>...</td>\n",
       "      <td>2113.073274</td>\n",
       "      <td>3716.525786</td>\n",
       "      <td>2</td>\n",
       "      <td>1</td>\n",
       "      <td>3</td>\n",
       "      <td>3</td>\n",
       "      <td>5</td>\n",
       "      <td>3</td>\n",
       "      <td>4</td>\n",
       "      <td>3</td>\n",
       "    </tr>\n",
       "  </tbody>\n",
       "</table>\n",
       "<p>5 rows × 50 columns</p>\n",
       "</div>"
      ],
      "text/plain": [
       "   CaseOrder Customer_id                           Interaction  \\\n",
       "0          1     C412403  8cd49b13-f45a-4b47-a2bd-173ffa932c2f   \n",
       "1          2     Z919181  d2450b70-0337-4406-bdbb-bc1037f1734c   \n",
       "2          3     F995323  a2057123-abf5-4a2c-abad-8ffe33512562   \n",
       "3          4     A879973  1dec528d-eb34-4079-adce-0d7a40e82205   \n",
       "4          5     C544523  5885f56b-d6da-43a3-8760-83583af94266   \n",
       "\n",
       "                                UID          City State        County    Zip  \\\n",
       "0  3a83ddb66e2ae73798bdf1d705dc0932           Eva    AL        Morgan  35621   \n",
       "1  176354c5eef714957d486009feabf195      Marianna    FL       Jackson  32446   \n",
       "2  e19a0fa00aeda885b8a436757e889bc9   Sioux Falls    SD     Minnehaha  57110   \n",
       "3  cd17d7b6d152cb6f23957346d11c3f07  New Richland    MN        Waseca  56072   \n",
       "4  d2f0425877b10ed6bb381f3e2579424a    West Point    VA  King William  23181   \n",
       "\n",
       "        Lat       Lng  ...  TotalCharge Additional_charges Item1 Item2  Item3  \\\n",
       "0  34.34960 -86.72508  ...  3726.702860       17939.403420     3     3      2   \n",
       "1  30.84513 -85.22907  ...  4193.190458       17612.998120     3     4      3   \n",
       "2  43.54321 -96.63772  ...  2434.234222       17505.192460     2     4      4   \n",
       "3  43.89744 -93.51479  ...  2127.830423       12993.437350     3     5      5   \n",
       "4  37.59894 -76.88958  ...  2113.073274        3716.525786     2     1      3   \n",
       "\n",
       "   Item4  Item5 Item6 Item7 Item8  \n",
       "0      2      4     3     3     4  \n",
       "1      4      4     4     3     3  \n",
       "2      4      3     4     3     3  \n",
       "3      3      4     5     5     5  \n",
       "4      3      5     3     4     3  \n",
       "\n",
       "[5 rows x 50 columns]"
      ]
     },
     "execution_count": 4,
     "metadata": {},
     "output_type": "execute_result"
    }
   ],
   "source": [
    "#view dataset\n",
    "med_df.head()"
   ]
  },
  {
   "cell_type": "code",
   "execution_count": 5,
   "id": "5baf921c",
   "metadata": {},
   "outputs": [],
   "source": [
    "## drop unused columns\n",
    "med_df = med_df.drop(['CaseOrder', 'Customer_id', 'Interaction', 'UID', 'City', 'State',\n",
    "                      'County', 'Zip', 'Lat', 'Lng', 'Population', 'Area', 'TimeZone', \n",
    "                      'Job', 'Children', 'Age', 'Income', 'Marital', 'Gender', 'VitD_levels', \n",
    "                      'Doc_visits', 'Full_meals_eaten', 'vitD_supp', 'Soft_drink', \n",
    "                      'TotalCharge', 'Additional_charges', 'Item1', 'Item2', 'Item3', \n",
    "                      'Item4','Item5', 'Item6', 'Item7', 'Item8'], axis=1)"
   ]
  },
  {
   "cell_type": "code",
   "execution_count": 6,
   "id": "5a0473fe",
   "metadata": {},
   "outputs": [
    {
     "name": "stdout",
     "output_type": "stream",
     "text": [
      "<class 'pandas.core.frame.DataFrame'>\n",
      "RangeIndex: 10000 entries, 0 to 9999\n",
      "Data columns (total 16 columns):\n",
      " #   Column              Non-Null Count  Dtype  \n",
      "---  ------              --------------  -----  \n",
      " 0   ReAdmis             10000 non-null  object \n",
      " 1   Initial_admin       10000 non-null  object \n",
      " 2   HighBlood           10000 non-null  object \n",
      " 3   Stroke              10000 non-null  object \n",
      " 4   Complication_risk   10000 non-null  object \n",
      " 5   Overweight          10000 non-null  object \n",
      " 6   Arthritis           10000 non-null  object \n",
      " 7   Diabetes            10000 non-null  object \n",
      " 8   Hyperlipidemia      10000 non-null  object \n",
      " 9   BackPain            10000 non-null  object \n",
      " 10  Anxiety             10000 non-null  object \n",
      " 11  Allergic_rhinitis   10000 non-null  object \n",
      " 12  Reflux_esophagitis  10000 non-null  object \n",
      " 13  Asthma              10000 non-null  object \n",
      " 14  Services            10000 non-null  object \n",
      " 15  Initial_days        10000 non-null  float64\n",
      "dtypes: float64(1), object(15)\n",
      "memory usage: 1.2+ MB\n"
     ]
    }
   ],
   "source": [
    "#view datatypes\n",
    "med_df.info()"
   ]
  },
  {
   "cell_type": "code",
   "execution_count": 7,
   "id": "ce1d777c",
   "metadata": {},
   "outputs": [
    {
     "name": "stdout",
     "output_type": "stream",
     "text": [
      "False    10000\n",
      "dtype: int64\n",
      "\n",
      "Variables        Missing Values\n",
      "---------        --------------\n",
      "ReAdmis               0\n",
      "Initial_admin         0\n",
      "HighBlood             0\n",
      "Stroke                0\n",
      "Complication_risk     0\n",
      "Overweight            0\n",
      "Arthritis             0\n",
      "Diabetes              0\n",
      "Hyperlipidemia        0\n",
      "BackPain              0\n",
      "Anxiety               0\n",
      "Allergic_rhinitis     0\n",
      "Reflux_esophagitis    0\n",
      "Asthma                0\n",
      "Services              0\n",
      "Initial_days          0\n",
      "dtype: int64\n"
     ]
    }
   ],
   "source": [
    "#check for duplicated/missing values\n",
    "print(med_df.duplicated().value_counts())\n",
    "print(\"\")\n",
    "print('Variables        Missing Values')\n",
    "print('---------        --------------')\n",
    "print(med_df.isna().sum())"
   ]
  },
  {
   "cell_type": "code",
   "execution_count": 8,
   "id": "31c02190",
   "metadata": {
    "scrolled": false
   },
   "outputs": [
    {
     "data": {
      "text/plain": [
       "[Text(0.5, 1.0, 'Initial_days')]"
      ]
     },
     "execution_count": 8,
     "metadata": {},
     "output_type": "execute_result"
    },
    {
     "data": {
      "image/png": "[encoded data removed]",
      "text/plain": [
       "<Figure size 640x480 with 1 Axes>"
      ]
     },
     "metadata": {},
     "output_type": "display_data"
    }
   ],
   "source": [
    "#check for outliers\n",
    "import seaborn as sns\n",
    "sns.boxplot(med_df.Initial_days, orient='h').set(title='Initial_days')"
   ]
  },
  {
   "cell_type": "code",
   "execution_count": 9,
   "id": "508007cd",
   "metadata": {},
   "outputs": [],
   "source": [
    "#One-Hot Encoding for (Yes/No) variables\n",
    "prefix_list1 = ['ReAdmis','HighBlood', 'Stroke', 'Arthritis', \n",
    "               'Diabetes', 'Anxiety', 'Asthma',\n",
    "               'Overweight', 'Hyperlipidemia', 'BackPain',\n",
    "               'Allergic_rhinitis', 'Reflux_esophagitis']\n",
    "\n",
    "prefix_dict = {'Yes': 1, 'No': 0}\n",
    "\n",
    "for col in prefix_list1:\n",
    "    med_df[col] = med_df[col].replace(prefix_dict)"
   ]
  },
  {
   "cell_type": "code",
   "execution_count": 10,
   "id": "1538bead",
   "metadata": {},
   "outputs": [],
   "source": [
    "#Get dummies for variables\n",
    "ia = pd.get_dummies(med_df['Initial_admin'], prefix='IA', prefix_sep='_', drop_first=False)\n",
    "cr = pd.get_dummies(med_df['Complication_risk'], prefix='CompRisk', prefix_sep='_', drop_first=False)\n",
    "svc = pd.get_dummies(med_df['Services'], prefix='Svc', prefix_sep='_', drop_first=False)\n",
    "med_df = pd.concat([med_df, ia, cr, svc], axis=1)\n",
    "med_df = med_df.drop(['Initial_admin', 'Complication_risk', 'Services'], axis=1)"
   ]
  },
  {
   "cell_type": "code",
   "execution_count": 11,
   "id": "e97233e5",
   "metadata": {
    "scrolled": false
   },
   "outputs": [
    {
     "name": "stdout",
     "output_type": "stream",
     "text": [
      "<class 'pandas.core.frame.DataFrame'>\n",
      "RangeIndex: 10000 entries, 0 to 9999\n",
      "Data columns (total 23 columns):\n",
      " #   Column                    Non-Null Count  Dtype  \n",
      "---  ------                    --------------  -----  \n",
      " 0   ReAdmis                   10000 non-null  int64  \n",
      " 1   HighBlood                 10000 non-null  int64  \n",
      " 2   Stroke                    10000 non-null  int64  \n",
      " 3   Overweight                10000 non-null  int64  \n",
      " 4   Arthritis                 10000 non-null  int64  \n",
      " 5   Diabetes                  10000 non-null  int64  \n",
      " 6   Hyperlipidemia            10000 non-null  int64  \n",
      " 7   BackPain                  10000 non-null  int64  \n",
      " 8   Anxiety                   10000 non-null  int64  \n",
      " 9   Allergic_rhinitis         10000 non-null  int64  \n",
      " 10  Reflux_esophagitis        10000 non-null  int64  \n",
      " 11  Asthma                    10000 non-null  int64  \n",
      " 12  Initial_days              10000 non-null  float64\n",
      " 13  IA_Elective Admission     10000 non-null  uint8  \n",
      " 14  IA_Emergency Admission    10000 non-null  uint8  \n",
      " 15  IA_Observation Admission  10000 non-null  uint8  \n",
      " 16  CompRisk_High             10000 non-null  uint8  \n",
      " 17  CompRisk_Low              10000 non-null  uint8  \n",
      " 18  CompRisk_Medium           10000 non-null  uint8  \n",
      " 19  Svc_Blood Work            10000 non-null  uint8  \n",
      " 20  Svc_CT Scan               10000 non-null  uint8  \n",
      " 21  Svc_Intravenous           10000 non-null  uint8  \n",
      " 22  Svc_MRI                   10000 non-null  uint8  \n",
      "dtypes: float64(1), int64(12), uint8(10)\n",
      "memory usage: 1.1 MB\n"
     ]
    }
   ],
   "source": [
    "med_df.info()"
   ]
  },
  {
   "cell_type": "code",
   "execution_count": 12,
   "id": "7bbe1f03",
   "metadata": {},
   "outputs": [],
   "source": [
    "#rename columns\n",
    "med_df.rename(columns = {'IA_Observation Admission': 'IA_Observation'}, inplace=True)\n",
    "med_df.rename(columns = {'IA_Emergency Admission': 'IA_Emergency'}, inplace=True)\n",
    "med_df.rename(columns = {'IA_Elective Admission': 'IA_Elective'}, inplace=True)\n",
    "med_df.rename(columns = {'Svc_Intravenous': 'Svc_IV'}, inplace=True)\n",
    "med_df.rename(columns = {'Svc_CT Scan': 'Svc_CT'}, inplace=True)\n",
    "med_df.rename(columns = {'Svc_Blood Work': 'Svc_BW'}, inplace=True)"
   ]
  },
  {
   "cell_type": "code",
   "execution_count": 13,
   "id": "c87ad6db",
   "metadata": {
    "scrolled": false
   },
   "outputs": [
    {
     "name": "stdout",
     "output_type": "stream",
     "text": [
      "18            Svc_CT\n",
      "19            Svc_IV\n",
      "12      IA_Emergency\n",
      "10            Asthma\n",
      "6           BackPain\n",
      "13    IA_Observation\n",
      "11       IA_Elective\n",
      "20           Svc_MRI\n",
      "2         Overweight\n",
      "3          Arthritis\n",
      "Name: Feature, dtype: object\n"
     ]
    }
   ],
   "source": [
    "X = med_df.drop(['ReAdmis', 'Initial_days'],1)\n",
    "y = med_df['ReAdmis']\n",
    "\n",
    "from sklearn.feature_selection import SelectKBest, f_classif\n",
    "skbest = SelectKBest(score_func=f_classif, k='all')\n",
    "\n",
    "X_new = skbest.fit_transform(X,y)\n",
    "\n",
    "p_values = pd.DataFrame({'Feature': X.columns,\n",
    "                        'p_value': skbest.pvalues_}).sort_values('p_value')\n",
    "#p_values[p_values['p_value']<0.5]\n",
    "features_to_keep = p_values['Feature'][p_values['p_value']<0.5]\n",
    "print(features_to_keep)"
   ]
  },
  {
   "cell_type": "code",
   "execution_count": 14,
   "id": "e204bd9a",
   "metadata": {},
   "outputs": [
    {
     "data": {
      "text/plain": [
       "Index(['ReAdmis', 'HighBlood', 'Stroke', 'Overweight', 'Arthritis', 'Diabetes',\n",
       "       'Hyperlipidemia', 'BackPain', 'Anxiety', 'Allergic_rhinitis',\n",
       "       'Reflux_esophagitis', 'Asthma', 'Initial_days', 'IA_Elective',\n",
       "       'IA_Emergency', 'IA_Observation', 'CompRisk_High', 'CompRisk_Low',\n",
       "       'CompRisk_Medium', 'Svc_BW', 'Svc_CT', 'Svc_IV', 'Svc_MRI'],\n",
       "      dtype='object')"
      ]
     },
     "execution_count": 14,
     "metadata": {},
     "output_type": "execute_result"
    }
   ],
   "source": [
    "med_df.columns"
   ]
  },
  {
   "cell_type": "code",
   "execution_count": 15,
   "id": "3655ec22",
   "metadata": {},
   "outputs": [],
   "source": [
    "med_df = med_df.drop(['HighBlood', 'Stroke', 'Diabetes',\n",
    "       'Hyperlipidemia', 'Anxiety', 'Allergic_rhinitis',\n",
    "       'Reflux_esophagitis', 'CompRisk_High', 'CompRisk_Low',\n",
    "       'CompRisk_Medium', 'Svc_BW'],axis=1)"
   ]
  },
  {
   "cell_type": "code",
   "execution_count": 16,
   "id": "0f5df34f",
   "metadata": {},
   "outputs": [],
   "source": [
    "#export CSV file\n",
    "med_df.to_csv(\"C:/Users/e0145653/Documents/WGU/D209 - Data Mining/medical_clean_d209_t1.csv\")"
   ]
  },
  {
   "cell_type": "code",
   "execution_count": 17,
   "id": "ddb84eb9",
   "metadata": {},
   "outputs": [],
   "source": [
    "#standardize data to avoid unequal weight and/or scale\n",
    "#from sklearn.preprocessing import StandardScaler\n",
    "#scaler = StandardScaler()\n",
    "\n",
    "#med_pred = med_df.drop(['ReAdmis', 'Initial_days'], axis=1)\n",
    "#med_resp = med_df['ReAdmis', 'Initial_days']\n",
    "#med_pred_std = pd.DataFrame(scaler.fit_transform(med_pred),\n",
    "#                           columns=med_pred.columns)\n",
    "\n",
    "#med_std = pd.concat([med_resp, med_pred_std], axis=1)\n",
    "\n",
    "#export to csv\n",
    "#med_std.to_csv(\"C:/Users/e0145653/Documents/WGU/D209 - Data Mining/full_med_std_d209_t1.csv\")"
   ]
  },
  {
   "cell_type": "code",
   "execution_count": 18,
   "id": "771c21f7",
   "metadata": {},
   "outputs": [],
   "source": [
    "#split the data into train/test sets\n",
    "from sklearn.model_selection import train_test_split\n",
    "\n",
    "X = med_df.drop(['ReAdmis'], axis=1)\n",
    "y = med_df['ReAdmis']\n",
    "\n",
    "X_train, X_test, y_train, y_test = train_test_split(X, y, test_size=0.3, random_state=16, stratify=y)\n",
    "\n",
    "X_train.to_csv(\"C:/Users/e0145653/Documents/WGU/D209 - Data Mining/X_train_d209_t1.csv\")\n",
    "y_train.to_csv(\"C:/Users/e0145653/Documents/WGU/D209 - Data Mining/y_train_d209_t1.csv\")\n",
    "X_test.to_csv(\"C:/Users/e0145653/Documents/WGU/D209 - Data Mining/X_test_d209_t1.csv\")\n",
    "y_test.to_csv(\"C:/Users/e0145653/Documents/WGU/D209 - Data Mining/y_test_d209_t1.csv\")\n",
    "\n",
    "#frames_train = [X_train, y_train]\n",
    "#med_train = pd.concat(frames_train, axis=1)\n",
    "#frames_test = [X_test, y_test]\n",
    "#med_test = pd.concat(frames_test, axis=1)\n",
    "\n",
    "#med_train.to_csv(\"C:/Users/e0145653/Documents/WGU/D209 - Data Mining/med_train_d209_t1.csv\")\n",
    "#med_test.to_csv(\"C:/Users/e0145653/Documents/WGU/D209 - Data Mining/med_test_d209_t1.csv\")"
   ]
  },
  {
   "cell_type": "code",
   "execution_count": 19,
   "id": "751296bc",
   "metadata": {},
   "outputs": [
    {
     "name": "stdout",
     "output_type": "stream",
     "text": [
      "[[1866   33]\n",
      " [  39 1062]]\n",
      "              precision    recall  f1-score   support\n",
      "\n",
      "           0       0.98      0.98      0.98      1899\n",
      "           1       0.97      0.96      0.97      1101\n",
      "\n",
      "    accuracy                           0.98      3000\n",
      "   macro avg       0.97      0.97      0.97      3000\n",
      "weighted avg       0.98      0.98      0.98      3000\n",
      "\n"
     ]
    }
   ],
   "source": [
    "#Initial KNN classification\n",
    "from sklearn.neighbors import KNeighborsClassifier\n",
    "knn = KNeighborsClassifier()\n",
    "knn.fit(X_train, y_train)\n",
    "y_pred = knn.predict(X_test)\n",
    "\n",
    "#Initial metrics to determine model accuracy. F1 score measures accuracy. \n",
    "from sklearn.metrics import confusion_matrix, classification_report\n",
    "matrix = confusion_matrix(y_test, y_pred)\n",
    "print(matrix)\n",
    "print(classification_report(y_test, y_pred))"
   ]
  },
  {
   "cell_type": "code",
   "execution_count": 20,
   "id": "2f3b370b",
   "metadata": {},
   "outputs": [
    {
     "name": "stdout",
     "output_type": "stream",
     "text": [
      "The accuracy    of the initial model is 97.6 %\n",
      "The sensitivity of the initial model is 96.46 %\n",
      "The specificity of the initial model is 98.26 %\n"
     ]
    }
   ],
   "source": [
    "# Extract TN, TP, FN and FP from the initial KNN model \n",
    "TN = matrix[0,0]\n",
    "TP = matrix[1,1]\n",
    "FN = matrix[1,0]\n",
    "FP = matrix[0,1]\n",
    "\n",
    "# Calculate and print the accuracy\n",
    "accuracy = (TN + TP) / (TN + FN + FP + TP)\n",
    "print(\"The accuracy    of the initial model is\", np.round((accuracy * 100),2), \"%\")\n",
    "\n",
    "# Calculate and print the sensitivity\n",
    "sensitivity = TP / (TP + FN)\n",
    "print(\"The sensitivity of the initial model is\", np.round((sensitivity * 100),2), \"%\")\n",
    "\n",
    "# Calculate and print the specificity\n",
    "specificity = TN / (TN + FP)\n",
    "print(\"The specificity of the initial model is\", np.round((specificity * 100),2), \"%\")"
   ]
  },
  {
   "cell_type": "code",
   "execution_count": 21,
   "id": "bb8c2e8c",
   "metadata": {},
   "outputs": [
    {
     "data": {
      "image/png": "[encoded data removed]",
      "text/plain": [
       "<Figure size 640x480 with 1 Axes>"
      ]
     },
     "metadata": {},
     "output_type": "display_data"
    }
   ],
   "source": [
    "#Initial ROC curve\n",
    "from sklearn.metrics import roc_curve\n",
    "y_pred_proba = knn.predict_proba(X_test)[:,1]\n",
    "false_positive_rate, true_positive_rate, thresholds = roc_curve(y_test, y_pred_proba)\n",
    "\n",
    "import matplotlib.pyplot as plt\n",
    "plt.plot([0,1], [0,1], 'k--')\n",
    "plt.plot(false_positive_rate, true_positive_rate, label='KNN')\n",
    "plt.xlabel('False + Rate')\n",
    "plt.ylabel('True + Rate')\n",
    "plt.title('KNN ROC Curve')\n",
    "plt.show()"
   ]
  },
  {
   "cell_type": "code",
   "execution_count": 22,
   "id": "4347df8f",
   "metadata": {},
   "outputs": [
    {
     "name": "stdout",
     "output_type": "stream",
     "text": [
      "AUC score of the initial model is 99.5 %\n"
     ]
    }
   ],
   "source": [
    "#Initial AUC\n",
    "from sklearn.metrics import roc_auc_score\n",
    "auc = roc_auc_score(y_test, y_pred_proba)\n",
    "print('AUC score of the initial model is', np.round((auc * 100),2), '%')"
   ]
  },
  {
   "cell_type": "code",
   "execution_count": 23,
   "id": "3c13138e",
   "metadata": {},
   "outputs": [
    {
     "name": "stdout",
     "output_type": "stream",
     "text": [
      "Best Parameters: {'metric': 'manhattan', 'n_neighbors': 35, 'weights': 'uniform'}\n",
      "Best Score: 0.9825714285714285\n"
     ]
    }
   ],
   "source": [
    "#Grid Search to find best parameters\n",
    "from sklearn.model_selection import GridSearchCV, KFold\n",
    "import numpy as np\n",
    "\n",
    "kf = KFold(n_splits=10, shuffle=True, random_state=42)\n",
    "param_grid = {'n_neighbors': np.arange(5,180,10),\n",
    "             'metric': ('manhattan', 'euclidean', 'minkowski'),\n",
    "             'weights': ('uniform', 'distance')}\n",
    "\n",
    "knn = KNeighborsClassifier()\n",
    "knn_cv = GridSearchCV(knn, param_grid, cv=kf)\n",
    "knn_cv.fit(X_train, y_train)\n",
    "\n",
    "print('Best Parameters: {}'.format(knn_cv.best_params_))\n",
    "print('Best Score: {}'.format(knn_cv.best_score_))"
   ]
  },
  {
   "cell_type": "code",
   "execution_count": 24,
   "id": "f6c88b88",
   "metadata": {},
   "outputs": [
    {
     "name": "stdout",
     "output_type": "stream",
     "text": [
      "Training Accuracy:0.9835714285714285\n",
      "Testing Accuracy:0.979\n"
     ]
    }
   ],
   "source": [
    "training_score = knn_cv.score(X_train, y_train)\n",
    "testing_score = knn_cv.score(X_test, y_test)\n",
    "\n",
    "print(\"Training Accuracy:{}\".format(training_score))\n",
    "print(\"Testing Accuracy:{}\".format(testing_score))"
   ]
  },
  {
   "cell_type": "code",
   "execution_count": 25,
   "id": "75914d85",
   "metadata": {},
   "outputs": [
    {
     "data": {
      "image/png": "[encoded data removed]",
      "text/plain": [
       "<Figure size 800x600 with 1 Axes>"
      ]
     },
     "metadata": {},
     "output_type": "display_data"
    }
   ],
   "source": [
    "train_accuracies = {}\n",
    "test_accuracies = {}\n",
    "\n",
    "neighbors = np.arange(5,180,10)\n",
    "\n",
    "for neighbor in neighbors:\n",
    "    knn = KNeighborsClassifier(n_neighbors=neighbor)\n",
    "    knn.fit(X_train, y_train)\n",
    "    train_accuracies[neighbor] = knn.score(X_train, y_train)\n",
    "    test_accuracies[neighbor] = knn.score(X_test, y_test)\n",
    "\n",
    "plt.figure(figsize=(8,6))\n",
    "plt.title('KNN: Varying Number of Neighbors')\n",
    "plt.plot(neighbors, train_accuracies.values(), label='Training Accuracy')\n",
    "plt.plot(neighbors, test_accuracies.values(), label='Testing Accuracy')\n",
    "plt.legend()\n",
    "plt.xlabel('Number of Neighbors')\n",
    "plt.ylabel('Accuracy')\n",
    "plt.show()"
   ]
  },
  {
   "cell_type": "code",
   "execution_count": 26,
   "id": "162d308a",
   "metadata": {},
   "outputs": [
    {
     "name": "stdout",
     "output_type": "stream",
     "text": [
      "[[1867   32]\n",
      " [  31 1070]]\n",
      "              precision    recall  f1-score   support\n",
      "\n",
      "           0       0.98      0.98      0.98      1899\n",
      "           1       0.97      0.97      0.97      1101\n",
      "\n",
      "    accuracy                           0.98      3000\n",
      "   macro avg       0.98      0.98      0.98      3000\n",
      "weighted avg       0.98      0.98      0.98      3000\n",
      "\n",
      "The accuracy    of the new model is 97.9 %\n",
      "The sensitivity of the new model is 97.18 %\n",
      "The specificity of the new model is 98.31 %\n"
     ]
    },
    {
     "data": {
      "image/png": "[encoded data removed]",
      "text/plain": [
       "<Figure size 640x480 with 1 Axes>"
      ]
     },
     "metadata": {},
     "output_type": "display_data"
    },
    {
     "name": "stdout",
     "output_type": "stream",
     "text": [
      "AUC score of the new model is 99.84 %\n"
     ]
    }
   ],
   "source": [
    "## KNN model with best parameters\n",
    "\n",
    "#knn model\n",
    "knn = KNeighborsClassifier(metric='manhattan',\n",
    "                          n_neighbors=35,\n",
    "                          weights='uniform')\n",
    "knn.fit(X_train, y_train)\n",
    "y_pred = knn.predict(X_test)\n",
    "\n",
    "#confusion_matrix & classification_report\n",
    "best_matrix = confusion_matrix(y_test, y_pred)\n",
    "print(best_matrix)\n",
    "print(classification_report(y_test, y_pred))\n",
    "\n",
    "# Extract TN, TP, FN and FP from the initial KNN model \n",
    "TN = best_matrix[0,0]\n",
    "TP = best_matrix[1,1]\n",
    "FN = best_matrix[1,0]\n",
    "FP = best_matrix[0,1]\n",
    "\n",
    "# Calculate and print the accuracy\n",
    "accuracy = (TN + TP) / (TN + FN + FP + TP)\n",
    "print(\"The accuracy    of the new model is\", np.round((accuracy * 100),2), \"%\")\n",
    "\n",
    "# Calculate and print the sensitivity\n",
    "sensitivity = TP / (TP + FN)\n",
    "print(\"The sensitivity of the new model is\", np.round((sensitivity * 100),2), \"%\")\n",
    "\n",
    "# Calculate and print the specificity\n",
    "specificity = TN / (TN + FP)\n",
    "print(\"The specificity of the new model is\", np.round((specificity * 100),2), \"%\")\n",
    "\n",
    "y_pred_proba = knn.predict_proba(X_test)[:,1]\n",
    "\n",
    "#New ROC curve\n",
    "y_pred_proba = knn.predict_proba(X_test)[:,1]\n",
    "false_positive_rate, true_positive_rate, thresholds = roc_curve(y_test, y_pred_proba)\n",
    "\n",
    "#New Plot\n",
    "plt.plot([0,1], [0,1], 'k--')\n",
    "plt.plot(false_positive_rate, true_positive_rate, label='KNN')\n",
    "plt.xlabel('False + Rate')\n",
    "plt.ylabel('True + Rate')\n",
    "plt.title('KNN ROC Curve')\n",
    "plt.show()\n",
    "\n",
    "#New AUC\n",
    "auc = roc_auc_score(y_test, y_pred_proba)\n",
    "print('AUC score of the new model is', np.round((auc * 100),2), '%')"
   ]
  },
  {
   "cell_type": "code",
   "execution_count": null,
   "id": "a593618e",
   "metadata": {},
   "outputs": [],
   "source": []
  }
 ],
 "metadata": {
  "kernelspec": {
   "display_name": "Python 3 (ipykernel)",
   "language": "python",
   "name": "python3"
  },
  "language_info": {
   "codemirror_mode": {
    "name": "ipython",
    "version": 3
   },
   "file_extension": ".py",
   "mimetype": "text/x-python",
   "name": "python",
   "nbconvert_exporter": "python",
   "pygments_lexer": "ipython3",
   "version": "3.10.9"
  }
 },
 "nbformat": 4,
 "nbformat_minor": 5
}
